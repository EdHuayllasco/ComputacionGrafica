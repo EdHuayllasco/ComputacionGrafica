{
  "nbformat": 4,
  "nbformat_minor": 0,
  "metadata": {
    "colab": {
      "name": "Untitled3.ipynb",
      "provenance": [],
      "collapsed_sections": [],
      "private_outputs": true
    },
    "kernelspec": {
      "name": "python3",
      "display_name": "Python 3"
    },
    "language_info": {
      "name": "python"
    },
    "accelerator": "GPU",
    "gpuClass": "standard"
  },
  "cells": [
    {
      "cell_type": "code",
      "execution_count": null,
      "metadata": {
        "id": "lk8gRU88R17_"
      },
      "outputs": [],
      "source": [
        "import numpy as np\n",
        "import matplotlib.pyplot as plt\n",
        "import cv2\n",
        "\n",
        "img = cv2.imread('increibles.jpg')\n",
        "\n",
        "plt.imshow(img)"
      ]
    },
    {
      "cell_type": "markdown",
      "source": [
        "1. Cambien el tipo de color a RGB"
      ],
      "metadata": {
        "id": "R6twC5C2SCSR"
      }
    },
    {
      "cell_type": "code",
      "source": [
        "rgb_img = cv2.cvtColor(img,cv2.COLOR_BGR2RGB)\n",
        "plt.imshow(rgb_img)"
      ],
      "metadata": {
        "id": "JjekhWMJSCvA"
      },
      "execution_count": null,
      "outputs": []
    },
    {
      "cell_type": "markdown",
      "source": [
        "2. Hagan girar una imagen"
      ],
      "metadata": {
        "id": "l5zcuWvnSOTh"
      }
    },
    {
      "cell_type": "code",
      "source": [
        "rotar_img = cv2.flip(rgb_img, 0)\n",
        "plt.imshow(rotar_img)"
      ],
      "metadata": {
        "id": "fdNFuxs9SOr4"
      },
      "execution_count": null,
      "outputs": []
    },
    {
      "cell_type": "markdown",
      "source": [
        "3. Dibujen un círculo sobre las caras de dicha figura y agreguen un texto que describa que es (persona, perro, gato)."
      ],
      "metadata": {
        "id": "b7qEbxA1SZCg"
      }
    },
    {
      "cell_type": "code",
      "source": [
        "forma_img = rgb_img\n",
        "cv2.circle(forma_img, center=(340,130), radius=100, color =(255,0,0), thickness=5)\n",
        "cv2.circle(forma_img, center=(730,355), radius=100, color =(0,255,0), thickness=5)\n",
        "cv2.circle(forma_img, center=(240,520), radius=100, color =(0,0,255), thickness=5)\n",
        "cv2.circle(forma_img, center=(830,555), radius=80, color =(0,255,0), thickness=5)\n",
        "cv2.circle(forma_img, center=(510,780), radius=100, color =(255,0,0), thickness=5)\n",
        "plt.imshow(forma_img)"
      ],
      "metadata": {
        "id": "lmkyUhCmTDzI"
      },
      "execution_count": null,
      "outputs": []
    },
    {
      "cell_type": "code",
      "source": [
        "font = cv2.FONT_HERSHEY_SIMPLEX\n",
        "cv2.putText(forma_img,text='persona',org=(280,130),fontFace=font, fontScale=1,color=(255,0,0),thickness=5,lineType=cv2.LINE_AA)\n",
        "cv2.putText(forma_img,text='persona',org=(670,355),fontFace=font, fontScale=1,color=(0,255,0),thickness=5,lineType=cv2.LINE_AA)\n",
        "cv2.putText(forma_img,text='persona',org=(180,520),fontFace=font, fontScale=1,color=(0,0,255),thickness=5,lineType=cv2.LINE_AA)\n",
        "cv2.putText(forma_img,text='persona',org=(770,555),fontFace=font, fontScale=1,color=(0,0,255),thickness=5,lineType=cv2.LINE_AA)\n",
        "cv2.putText(forma_img,text='persona',org=(450,780),fontFace=font, fontScale=1,color=(0,255,0),thickness=5,lineType=cv2.LINE_AA)\n",
        "plt.imshow(forma_img)"
      ],
      "metadata": {
        "id": "8CVtgEuKUxUI"
      },
      "execution_count": null,
      "outputs": []
    },
    {
      "cell_type": "markdown",
      "source": [
        "4. Guarden la figura con los círculos dibujados y el texto generado"
      ],
      "metadata": {
        "id": "w-oYKg2ZV-th"
      }
    },
    {
      "cell_type": "code",
      "source": [
        "#regresamos la imagen a BGR \n",
        "forma_img = cv2.cvtColor(forma_img,cv2.COLOR_RGB2BGR)\n",
        "cv2.imwrite('increiblesmix.jpg',forma_img)\n",
        "plt.imshow(forma_img)"
      ],
      "metadata": {
        "id": "a6FD1njsVcaw"
      },
      "execution_count": null,
      "outputs": []
    },
    {
      "cell_type": "markdown",
      "source": [
        "5. En una imagen distinta al anterior creen una pentágono sobre las caras de las figuras y agreguen un texto que describa que es (persona, perro, gato)."
      ],
      "metadata": {
        "id": "hNoTmmqWZKYZ"
      }
    },
    {
      "cell_type": "code",
      "source": [
        "img02 = cv2.imread('damayvagabundo.jpg')\n",
        "img02_fix = cv2.cvtColor(img02,cv2.COLOR_BGR2RGB)\n",
        "\n",
        "def crear_pentagono(mov_x, mov_y): \n",
        "    return np.array([[100 + mov_x, mov_y],\n",
        "                     [200 + mov_x, 80 + mov_y],\n",
        "                     [150 + mov_x, 200 + mov_y],\n",
        "                     [50 + mov_x, 200 + mov_y],\n",
        "                     [0 + mov_x, 80 + mov_y]],np.int32)\n",
        "\n",
        "cv2.polylines(img02_fix,[crear_pentagono(380,250)],True,(255,0,0),thickness=15)\n",
        "cv2.polylines(img02_fix,[crear_pentagono(820,430)],True,(0,255,0),thickness=15)\n",
        "cv2.putText(img02_fix,text='perro',org=(430,380),fontFace=font, fontScale=1.5,color=(0,255,0),thickness=3,lineType=cv2.LINE_AA)\n",
        "cv2.putText(img02_fix,text='perro',org=(850,560),fontFace=font, fontScale=1.5,color=(0,0,255),thickness=3,lineType=cv2.LINE_AA)\n",
        "\n",
        "plt.imshow(img02_fix)"
      ],
      "metadata": {
        "id": "XDZQmPiOW6z3"
      },
      "execution_count": null,
      "outputs": []
    },
    {
      "cell_type": "markdown",
      "source": [
        "6. Creen un programa que permita dibujar diferentes tipos de figuras geométricas con el uso de eventos de mouse para poder hacer dibujos y luego guarden la imagen."
      ],
      "metadata": {
        "id": "TigrpymZZMZ_"
      }
    },
    {
      "cell_type": "markdown",
      "source": [
        "Creamos y dibujamos cada circulo, para el left creamos circulo para el right rectangulos"
      ],
      "metadata": {
        "id": "aQD-S2Wm5xo3"
      }
    },
    {
      "cell_type": "code",
      "source": [
        "def draw_figures(event, x, y, flags, param):\n",
        "    if event == cv2.EVENT_LBUTTONDOWN:\n",
        "        cv2.circle(img_figuras, (x,y), 25, (0,0,255), 3)\n",
        "    if event == cv2.EVENT_RBUTTONDOWN:\n",
        "        cv2.rectangle(img_figuras, (x,y),(x+50,y+50), (255,0,0), 3)\n",
        "\n",
        "img_figuras = np.zeros((512,512,3))\n",
        "cv2.namedWindow(winname = 'dibujando')\n",
        "cv2.setMouseCallback('dibujando', draw_figures)\n",
        "\n",
        "while True:\n",
        "    cv2.imshow('dibujando', img_figuras)\n",
        "    if cv2.waitKey(20)% 0xff == 27:\n",
        "        break\n",
        "\n",
        "cv2.destroyAllWindows()\n",
        "\n",
        "cv2.imwrite('circulo_rec.jpg',img_figuras)"
      ],
      "metadata": {
        "id": "JVuJFFMjrEdS"
      },
      "execution_count": null,
      "outputs": []
    }
  ]
}